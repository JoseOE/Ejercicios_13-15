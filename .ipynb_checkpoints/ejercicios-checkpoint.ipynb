{
 "cells": [
  {
   "cell_type": "code",
   "execution_count": 2,
   "id": "65e0e5f6-8146-4f88-a936-4198b19b181a",
   "metadata": {},
   "outputs": [],
   "source": [
    "import math"
   ]
  },
  {
   "cell_type": "markdown",
   "id": "1f0f6e37-763c-40ae-bb11-4a83cf36e0e4",
   "metadata": {},
   "source": [
    "# Ejercicio 13\n",
    "Cultura. Una persona tiene un libro de cada uno de los autores siguientes: Mario Vargas Llosa, Alberto Ruy Sánchez, Gabriel García Márquez, Günther Grass, Patrick Süskind, Heinrich Böll, Arturo Pérez-Reverte y Camilo José Cela. Como aún no los ha leído, quiere ponerlos en una repisa cerca de su cama. De acuerdo con esto, determina:\n",
    "\n",
    "**a)** ¿De cuántas formas puede acomodar los libros sobre la repisa?\n",
    "\n",
    "Dado que tenemos 8 autores diferentes, y no hay restricciones, podemos calcular el factorial de 8, ya que el uso de la notación factorial permite reducir cálculos cuando no es tan sencillo enumerar los elementos de un conjunto.\n",
    "En este caso, haciendo uso de la notación factorial:\n",
    "\n",
    "$$\n",
    "n! = n * (n - 1) * (n - 2) . . . 3 * 2 * 1\n",
    "$$\n",
    "Remplazando los datos tenemos:\n",
    "$$\n",
    "8! = 8 * 7 * 6 * 5 * 4 * 3 * 2 * 1\n",
    "$$\n",
    "Dando un total de:\n",
    "$$\n",
    "40320\n",
    "$$\n",
    "Por lo que \n",
    "$$\n",
    "8! = 40320\n",
    "$$\n",
    "Entonces, al no haber restricciones existen ***40,320*** formas de acomodar los libros sobre la repisa.\n",
    "\n"
   ]
  },
  {
   "cell_type": "code",
   "execution_count": 3,
   "id": "3dfebb30-c56d-4a0c-bec5-a7d2fe2a6946",
   "metadata": {},
   "outputs": [
    {
     "name": "stdout",
     "output_type": "stream",
     "text": [
      "Hay 40320 combinaciones posibles con los 8 libros de autores diferentes.\n"
     ]
    }
   ],
   "source": [
    "# Implementacion de la solucion del inciso a) del ejercicio 13\n",
    "numbers_of_combinations = math.factorial(8)\n",
    "print(f'Hay {numbers_of_combinations} combinaciones posibles con los 8 libros de autores diferentes.')"
   ]
  },
  {
   "cell_type": "markdown",
   "id": "621b5411-3aea-43c4-8831-404f0d8726f6",
   "metadata": {},
   "source": [
    "**b)** ¿De cuántas maneras puede ordenar los si quiere que los libros de autores latinoamericanos estén juntos?\n",
    "\n",
    "| Nombre  |  Nacionalidad           |\n",
    "|---|---|\n",
    "| Mario Vargas Llosa     | Peruana |\n",
    "| Alberto Ruy Sánchez    | Mexicana      |\n",
    "| Gabriel García Márquez   | Colombiana        |\n",
    "| Günther Grass  | Alemana |\n",
    "| Patrick Süskind | Alemana |\n",
    "| Heinrich Böll | Alemana |\n",
    "| Arturo Pérez-Reverte  | Española |\n",
    "| Camilo José Cela | Española |\n",
    "\n",
    "Tomando en cuenta los datos presentados en la tabla, podemos observar que tenemos 3 autores latinoamericanos, a los cuales podemos considerar un bloque teniendo así un total de 6 elementos(cinco autores diversos y el bloque de autores latinos), con esto podemos multiplicar el factorial de seis por el factorial de tres, ya que como se puede alterar el orden de los 6 elementos, de la misma manera se puede alterar el orden dentro del bloque de autores latinos:  \n",
    "\n",
    "\n",
    "\n",
    " \n",
    " \n",
    "  \n",
    "\n",
    "$$\n",
    "\\begin{align}\n",
    "    b &= 6! * 3!\\\\\n",
    "    b &= 720 * 6\\\\\n",
    "    b &= 4320\n",
    "\\end{align}\n",
    "$$\n",
    "\n",
    "Por lo que en caso de que los libros de autores latinoamericanos deban de estar juntos, existen ***4320*** combinaciones."
   ]
  },
  {
   "cell_type": "code",
   "execution_count": 5,
   "id": "b005d487-fc2c-4163-9f86-2ad5268a3f74",
   "metadata": {},
   "outputs": [
    {
     "name": "stdout",
     "output_type": "stream",
     "text": [
      "Hay 4320 combinaciones posibles en caso de que los autores latinos tengan que estar juntos.\n"
     ]
    }
   ],
   "source": [
    "# Implementacion de la solucion del inciso b) del ejercicio 13\n",
    "combinations_of_six_elements = math.factorial(6) * math.factorial(3)\n",
    "print(f'Hay {combinations_of_six_elements} combinaciones posibles en caso de que los autores latinos tengan que estar juntos.')"
   ]
  },
  {
   "cell_type": "markdown",
   "id": "71a14423-b53c-4008-87d7-7a51a7f40b7e",
   "metadata": {},
   "source": [
    "**c)** ¿De cuántas formas puede acomodarlos, si los autores latinoamericanos deben estar juntos, así como los autores alemanes y los españoles también?\n",
    "\n",
    "| Nombre  |  Nacionalidad           |\n",
    "|---|---|\n",
    "| Mario Vargas Llosa     | Peruana |\n",
    "| Alberto Ruy Sánchez    | Mexicana      |\n",
    "| Gabriel García Márquez   | Colombiana        |\n",
    "| Günther Grass  | Alemana |\n",
    "| Patrick Süskind | Alemana |\n",
    "| Heinrich Böll | Alemana |\n",
    "| Arturo Pérez-Reverte  | Española |\n",
    "| Camilo José Cela | Española |\n",
    "\n",
    "Dado que tenemos 3 grupos de autores, y en esos grupos tenemos tres latinos, tres alemanes, y dos españoles,  podemos calcular el factorial de cada número de autores, y a final multiplicarlo por el número de grupos existentes.\n",
    "$$\n",
    "\\begin{align}\n",
    "    c &= (3! * 3! * 2!) * 3!\\\\\n",
    "    c &= (6 * 6 * 2) * 6\\\\\n",
    "    c &= 432\n",
    "\\end{align}\n",
    "$$\n",
    "Por lo que en caso de tener que ordenar los libros en grupos de autores latinos, alemanes y españoles, tenemos un total de ***432*** combinaciones.\n"
   ]
  },
  {
   "cell_type": "code",
   "execution_count": 6,
   "id": "9736e3b5-ec17-460b-a27c-bb8c585a7644",
   "metadata": {},
   "outputs": [
    {
     "name": "stdout",
     "output_type": "stream",
     "text": [
      "Existen un total de 432 combinaciones en caso de tener que juntar los libros en grupos de latinos, alemanes y españoles.\n"
     ]
    }
   ],
   "source": [
    "# Implementacion de la solucion del inciso c) del ejercicio 13\n",
    "combinations_of_three_groups = (math.factorial(3) * math.factorial(3) * math.factorial(2)) * math.factorial(3)\n",
    "print(f'Existen un total de {combinations_of_three_groups} combinaciones en caso de tener que juntar los libros en grupos de latinos, alemanes y españoles.')"
   ]
  },
  {
   "cell_type": "markdown",
   "id": "5c1afd9a-ea7f-43c2-8319-b3b9656b467e",
   "metadata": {},
   "source": [
    "**d)** Determina las probabilidades correspondientes a los incisos (b) y (c).  \n",
    "Al momento de calcular las probabilidades dividimos hacemos uso del cálculo de probabilidad:    \n",
    "Donde en caso de querer calcular la probabilidad de un evento (A):\n",
    "$$\n",
    "\\begin{align}\n",
    "    P(A) = \\dfrac{Casos Favorables}{CasosPosibles}\n",
    "\\end{align}\n",
    "$$\n",
    "Haciendo uso del cálculo de probabilidad para (b):\n",
    "$$\n",
    "\\begin{align}\n",
    "    P(b) &= \\dfrac{b}{a}\\\\\n",
    "    P(b) &= \\dfrac{4320}{40320}\\\\\n",
    "    P(b) &= 0.107142857\n",
    "\\end{align}\n",
    "$$\n",
    "Y en el caso de (c)\n",
    "\n",
    "$$\n",
    "\\begin{align}\n",
    "    P(c) &= \\dfrac{c}{a}\\\\\n",
    "    P(c) &= \\dfrac{432}{40320}\\\\\n",
    "    P(c) &= 0.010714286\n",
    "\\end{align}\n",
    "$$  "
   ]
  },
  {
   "cell_type": "code",
   "execution_count": 7,
   "id": "830e784a-0aea-48f6-b1fb-f0d3c4e3aa53",
   "metadata": {},
   "outputs": [
    {
     "name": "stdout",
     "output_type": "stream",
     "text": [
      "La probabilidad de que los libros de los 3 autores latinos esten juntos es de 0.10714285714285714\n",
      "La probabilidad de que los libros esten juntos segun la nacionalidad de los autores es de 0.010714285714285714\n"
     ]
    }
   ],
   "source": [
    "# Implementacion de la solucion del inciso d) del ejercicio 13\n",
    "probability_of_b = combinations_of_six_elements / numbers_of_combinations\n",
    "\n",
    "probability_of_c = combinations_of_three_groups / numbers_of_combinations\n",
    "\n",
    "print(f'La probabilidad de que los libros de los 3 autores latinos esten juntos es de {probability_of_b}')\n",
    "print(f'La probabilidad de que los libros esten juntos segun la nacionalidad de los autores es de {probability_of_c}')"
   ]
  }
 ],
 "metadata": {
  "kernelspec": {
   "display_name": "Python 3 (ipykernel)",
   "language": "python",
   "name": "python3"
  },
  "language_info": {
   "codemirror_mode": {
    "name": "ipython",
    "version": 3
   },
   "file_extension": ".py",
   "mimetype": "text/x-python",
   "name": "python",
   "nbconvert_exporter": "python",
   "pygments_lexer": "ipython3",
   "version": "3.12.4"
  }
 },
 "nbformat": 4,
 "nbformat_minor": 5
}
