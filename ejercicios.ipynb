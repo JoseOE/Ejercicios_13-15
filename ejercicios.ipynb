{
 "cells": [
  {
   "cell_type": "code",
   "execution_count": 2,
   "id": "65e0e5f6-8146-4f88-a936-4198b19b181a",
   "metadata": {},
   "outputs": [],
   "source": [
    "import math"
   ]
  },
  {
   "cell_type": "markdown",
   "id": "1f0f6e37-763c-40ae-bb11-4a83cf36e0e4",
   "metadata": {},
   "source": [
    "# Ejercicio 13\n",
    "Cultura. Una persona tiene un libro de cada uno de los autores siguientes: Mario Vargas Llosa, Alberto Ruy Sánchez, Gabriel García Márquez, Günther Grass, Patrick Süskind, Heinrich Böll, Arturo Pérez-Reverte y Camilo José Cela. Como aún no los ha leído, quiere ponerlos en una repisa cerca de su cama. De acuerdo con esto, determina:\n",
    "\n",
    "**a)** ¿De cuántas formas puede acomodar los libros sobre la repisa?\n",
    "\n",
    "Dado que tenemos 8 autores diferentes, y no hay restricciones, podemos calcular el factorial de 8, ya que el uso de la notación factorial permite reducir cálculos cuando no es tan sencillo enumerar los elementos de un conjunto.\n",
    "En este caso, haciendo uso de la notación factorial:\n",
    "\n",
    "$$\n",
    "n! = n * (n - 1) * (n - 2) . . . 3 * 2 * 1\n",
    "$$\n",
    "Remplazando los datos tenemos:\n",
    "$$\n",
    "8! = 8 * 7 * 6 * 5 * 4 * 3 * 2 * 1\n",
    "$$\n",
    "Dando un total de:\n",
    "$$\n",
    "40320\n",
    "$$\n",
    "Por lo que \n",
    "$$\n",
    "8! = 40320\n",
    "$$\n",
    "Entonces, al no haber restricciones existen ***40,320*** formas de acomodar los libros sobre la repisa.\n",
    "\n"
   ]
  },
  {
   "cell_type": "code",
   "execution_count": 3,
   "id": "3dfebb30-c56d-4a0c-bec5-a7d2fe2a6946",
   "metadata": {},
   "outputs": [
    {
     "name": "stdout",
     "output_type": "stream",
     "text": [
      "Hay 40320 combinaciones posibles con los 8 libros de autores diferentes.\n"
     ]
    }
   ],
   "source": [
    "# Implementacion de la solucion del inciso a) del ejercicio 13\n",
    "numbers_of_combinations = math.factorial(8)\n",
    "print(f'Hay {numbers_of_combinations} combinaciones posibles con los 8 libros de autores diferentes.')"
   ]
  },
  {
   "cell_type": "markdown",
   "id": "621b5411-3aea-43c4-8831-404f0d8726f6",
   "metadata": {},
   "source": [
    "**b)** ¿De cuántas maneras puede ordenar los si quiere que los libros de autores latinoamericanos estén juntos?\n",
    "\n",
    "| Nombre  |  Nacionalidad           |\n",
    "|---|---|\n",
    "| Mario Vargas Llosa     | Peruana |\n",
    "| Alberto Ruy Sánchez    | Mexicana      |\n",
    "| Gabriel García Márquez   | Colombiana        |\n",
    "| Günther Grass  | Alemana |\n",
    "| Patrick Süskind | Alemana |\n",
    "| Heinrich Böll | Alemana |\n",
    "| Arturo Pérez-Reverte  | Española |\n",
    "| Camilo José Cela | Española |\n",
    "\n",
    "Tomando en cuenta los datos presentados en la tabla, podemos observar que tenemos 3 autores latinoamericanos, a los cuales podemos considerar un bloque teniendo así un total de 6 elementos(cinco autores diversos y el bloque de autores latinos), con esto podemos multiplicar el factorial de seis por el factorial de tres, ya que como se puede alterar el orden de los 6 elementos, de la misma manera se puede alterar el orden dentro del bloque de autores latinos:  \n",
    "\n",
    "\n",
    "\n",
    " \n",
    " \n",
    "  \n",
    "\n",
    "$$\n",
    "\\begin{align}\n",
    "    b &= 6! * 3!\\\\\n",
    "    b &= 720 * 6\\\\\n",
    "    b &= 4320\n",
    "\\end{align}\n",
    "$$\n",
    "\n",
    "Por lo que en caso de que los libros de autores latinoamericanos deban de estar juntos, existen ***4320*** combinaciones."
   ]
  },
  {
   "cell_type": "code",
   "execution_count": 5,
   "id": "b005d487-fc2c-4163-9f86-2ad5268a3f74",
   "metadata": {},
   "outputs": [
    {
     "name": "stdout",
     "output_type": "stream",
     "text": [
      "Hay 4320 combinaciones posibles en caso de que los autores latinos tengan que estar juntos.\n"
     ]
    }
   ],
   "source": [
    "# Implementacion de la solucion del inciso b) del ejercicio 13\n",
    "combinations_of_six_elements = math.factorial(6) * math.factorial(3)\n",
    "print(f'Hay {combinations_of_six_elements} combinaciones posibles en caso de que los autores latinos tengan que estar juntos.')"
   ]
  },
  {
   "cell_type": "markdown",
   "id": "71a14423-b53c-4008-87d7-7a51a7f40b7e",
   "metadata": {},
   "source": [
    "**c)** ¿De cuántas formas puede acomodarlos, si los autores latinoamericanos deben estar juntos, así como los autores alemanes y los españoles también?\n",
    "\n",
    "| Nombre  |  Nacionalidad           |\n",
    "|---|---|\n",
    "| Mario Vargas Llosa     | Peruana |\n",
    "| Alberto Ruy Sánchez    | Mexicana      |\n",
    "| Gabriel García Márquez   | Colombiana        |\n",
    "| Günther Grass  | Alemana |\n",
    "| Patrick Süskind | Alemana |\n",
    "| Heinrich Böll | Alemana |\n",
    "| Arturo Pérez-Reverte  | Española |\n",
    "| Camilo José Cela | Española |\n",
    "\n",
    "Dado que tenemos 3 grupos de autores, y en esos grupos tenemos tres latinos, tres alemanes, y dos españoles,  podemos calcular el factorial de cada número de autores, y a final multiplicarlo por el número de grupos existentes.\n",
    "$$\n",
    "\\begin{align}\n",
    "    c &= (3! * 3! * 2!) * 3!\\\\\n",
    "    c &= (6 * 6 * 2) * 6\\\\\n",
    "    c &= 432\n",
    "\\end{align}\n",
    "$$\n",
    "Por lo que en caso de tener que ordenar los libros en grupos de autores latinos, alemanes y españoles, tenemos un total de ***432*** combinaciones.\n"
   ]
  },
  {
   "cell_type": "code",
   "execution_count": 6,
   "id": "9736e3b5-ec17-460b-a27c-bb8c585a7644",
   "metadata": {},
   "outputs": [
    {
     "name": "stdout",
     "output_type": "stream",
     "text": [
      "Existen un total de 432 combinaciones en caso de tener que juntar los libros en grupos de latinos, alemanes y españoles.\n"
     ]
    }
   ],
   "source": [
    "# Implementacion de la solucion del inciso c) del ejercicio 13\n",
    "combinations_of_three_groups = (math.factorial(3) * math.factorial(3) * math.factorial(2)) * math.factorial(3)\n",
    "print(f'Existen un total de {combinations_of_three_groups} combinaciones en caso de tener que juntar los libros en grupos de latinos, alemanes y españoles.')"
   ]
  },
  {
   "cell_type": "markdown",
   "id": "5c1afd9a-ea7f-43c2-8319-b3b9656b467e",
   "metadata": {},
   "source": [
    "**d)** Determina las probabilidades correspondientes a los incisos (b) y (c).  \n",
    "Al momento de calcular las probabilidades dividimos hacemos uso del cálculo de probabilidad:    \n",
    "Donde en caso de querer calcular la probabilidad de un evento (A):\n",
    "$$\n",
    "\\begin{align}\n",
    "    P(A) = \\dfrac{Casos Favorables}{CasosPosibles}\n",
    "\\end{align}\n",
    "$$\n",
    "Haciendo uso del cálculo de probabilidad para (b):\n",
    "$$\n",
    "\\begin{align}\n",
    "    P(b) &= \\dfrac{b}{a}\\\\\n",
    "    P(b) &= \\dfrac{4320}{40320}\\\\\n",
    "    P(b) &= 0.107142857\n",
    "\\end{align}\n",
    "$$\n",
    "Y en el caso de (c)\n",
    "\n",
    "$$\n",
    "\\begin{align}\n",
    "    P(c) &= \\dfrac{c}{a}\\\\\n",
    "    P(c) &= \\dfrac{432}{40320}\\\\\n",
    "    P(c) &= 0.010714286\n",
    "\\end{align}\n",
    "$$  "
   ]
  },
  {
   "cell_type": "code",
   "execution_count": 7,
   "id": "830e784a-0aea-48f6-b1fb-f0d3c4e3aa53",
   "metadata": {},
   "outputs": [
    {
     "name": "stdout",
     "output_type": "stream",
     "text": [
      "La probabilidad de que los libros de los 3 autores latinos esten juntos es de 0.10714285714285714\n",
      "La probabilidad de que los libros esten juntos segun la nacionalidad de los autores es de 0.010714285714285714\n"
     ]
    }
   ],
   "source": [
    "# Implementacion de la solucion del inciso d) del ejercicio 13\n",
    "probability_of_b = combinations_of_six_elements / numbers_of_combinations\n",
    "\n",
    "probability_of_c = combinations_of_three_groups / numbers_of_combinations\n",
    "\n",
    "print(f'La probabilidad de que los libros de los 3 autores latinos esten juntos es de {probability_of_b}')\n",
    "print(f'La probabilidad de que los libros esten juntos segun la nacionalidad de los autores es de {probability_of_c}')"
   ]
  },
  {
   "cell_type": "markdown",
   "id": "4b80329b-a547-4ab2-92e6-690d9e31f82c",
   "metadata": {},
   "source": [
    "# Ejercicio 14\n",
    "Finanzas. Se va a formar un portafolio de inversión de cuatro instrumentos financieros a partir de cinco de renta fija y seis de renta variable. ¿De cuántas maneras podría formarse el portafolio si:\n",
    "\n",
    "**a)** No hay restricciones?  \n",
    "  \n",
    "En este caso, al tener que formar combinaciones de 4 elementos, teniendo un total de 11 elementos(cinco de renta fija y seis de renta variable), recurrimos al uso de la fórmula de combinaciones:  \n",
    "$$\n",
    "nCr = \\dfrac{n!}{r! (n - r)!}\n",
    "$$\n",
    "\n",
    "Donde:    \n",
    "* n es el número total de elementos en el conjunto.  \n",
    "* r es el número de elementos que se quieren seleccionar.  \n",
    "* ! representa el factorial.  \n",
    "\n",
    "Remplazando los valores tenemos:  \n",
    "$$\n",
    "\\begin{align}\n",
    "    _{11}C_{4} &= \\dfrac{11!}{4! (11 - 4)!}\\\\\n",
    "    _{11}C_{4} &= \\dfrac{11!}{4! * 7!}\\\\\n",
    "    _{11}C_{4} &= \\dfrac{39916800}{120960} = 330\\\\\n",
    "    _{11}C_{4} &= 330\n",
    "\\end{align}\n",
    "$$\n",
    "  \n",
    "Por lo que podemos crear **330** combinaciones de 4 elementos,  teniendo 11 en total."
   ]
  },
  {
   "cell_type": "code",
   "execution_count": 8,
   "id": "7e972ede-fbf6-4d66-853a-73cd05eddf67",
   "metadata": {},
   "outputs": [
    {
     "name": "stdout",
     "output_type": "stream",
     "text": [
      "Existen 330 maneras de combinar los 11 elementos en un portafolio de 4\n"
     ]
    }
   ],
   "source": [
    "# Implementacion de la solucion del inciso a) del ejercicio 14\n",
    "combinations_of_four_elements = math.comb(11, 4)\n",
    "print(f'Existen {combinations_of_four_elements} maneras de combinar los 11 elementos en un portafolio de 4')"
   ]
  },
  {
   "cell_type": "markdown",
   "id": "c6bd0f83-85d9-42d3-a847-ce5f31e74745",
   "metadata": {},
   "source": [
    "**b)** Debe haber dos instrumentos de renta fija y dos de renta variable?  \n",
    "  \n",
    "Para esto debemos considerar que tenemos cinco de renta fija y seis de renta variable, como se pide que se usen dos de cada tipo de renta, podemos calcular el número de combinaciones de cada uno, y después multiplicarlos, para así obtener el número de combinaciones de cuatro elementos siendo 2 de los cinco de renta fija, y dos de los 6 de renta variable.  \n",
    "  \n",
    "Comenzamos calculando las combinaciones de cada tipo de renta. \n",
    "  \n",
    "En caso de la renta fija: \n",
    "$$\n",
    "\\begin{align}\n",
    "    _{5}C_{2} &= \\dfrac{5!}{2! (5 - 2)!}\\\\\n",
    "    _{5}C_{2} &= \\dfrac{5!}{2! * 3!}\\\\\n",
    "    _{5}C_{2} &= \\dfrac{120}{12} = 10\\\\\n",
    "    _{5}C_{2} &= 10\n",
    "\\end{align}\n",
    "$$  \n",
    "  \n",
    "En caso de la renta variable:  \n",
    "$$\n",
    "\\begin{align}\n",
    "    _{6}C_{2} &= \\dfrac{6!}{2! (6 - 2)!}\\\\\n",
    "    _{6}C_{2} &= \\dfrac{6!}{2! * 4!}\\\\\n",
    "    _{6}C_{2} &= \\dfrac{720}{48} = 15\\\\\n",
    "    _{6}C_{2} &= 15\n",
    "\\end{align}\n",
    "$$  \n",
    "  \n",
    "Entonces al hacer la multiplicación de los valores obtenidos tenemos que:  \n",
    "$$\n",
    "10 * 15 = 150\n",
    "$$\n",
    "Por lo que podemos hacer **150** combinaciones de 4 instrumentos, haciendo uso de 2 elementos de cada tipo de renta."
   ]
  },
  {
   "cell_type": "code",
   "execution_count": 9,
   "id": "76b3996b-4819-41ce-b635-13a3253a3e77",
   "metadata": {},
   "outputs": [
    {
     "name": "stdout",
     "output_type": "stream",
     "text": [
      "Existen 150 maneras de combinar los 4 elementos del folder, haciendo uso de 2 elementos de cada tipo de renta.\n"
     ]
    }
   ],
   "source": [
    "# Implementacion de la solucion del inciso b) del ejercicio 14\n",
    "combinations_two_of_each = math.comb(5, 2) * math.comb(6, 2)\n",
    "print(f'Existen {combinations_two_of_each} maneras de combinar los 4 elementos del folder, haciendo uso de 2 elementos de cada tipo de renta.')"
   ]
  },
  {
   "cell_type": "markdown",
   "id": "de1477f2-6c15-4f24-b1f9-e9b76b6cdec8",
   "metadata": {},
   "source": [
    "**c)** No debe haber ningún instrumento de renta fija?  \n",
    "\n",
    "En caso de que no deba de haber ningún instrumento de renta fija(cinco elementos), tenemos que hacer uso solamente de los instrumentos de renta variable(seis elementos), por lo que podemos hacer uso de la fórmula de combinaciones para calcular el número de combinaciones de 4 elementos haciendo uso de los 6 de renta variable.  \n",
    "\n",
    "Entonces:  \n",
    "$$\n",
    "\\begin{align}\n",
    "    _{6}C_{4} &= \\dfrac{6!}{4! (6 - 4)!}\\\\\n",
    "    _{6}C_{4} &= \\dfrac{6!}{4! * 2!}\\\\\n",
    "    _{6}C_{4} &= \\dfrac{720}{48} = 15\\\\\n",
    "    _{6}C_{4} &= 15\n",
    "\\end{align}\n",
    "$$  \n",
    "Por lo que existen **15** combinaciones de 4 elementos al excluir a los instrumentos de renta fija.\n"
   ]
  },
  {
   "cell_type": "code",
   "execution_count": 17,
   "id": "d85ef218-ba82-4307-9566-8b3e5f9cc96c",
   "metadata": {},
   "outputs": [
    {
     "name": "stdout",
     "output_type": "stream",
     "text": [
      "Existen 15 maneras de combinar los 4 elementos del folder, haciendo uso solamende los seis instrumentos de renta variable .\n"
     ]
    }
   ],
   "source": [
    "# Implementacion de la solucion del inciso c) del ejercicio 14\n",
    "combinations_using_six_elements = math.comb(6, 4)\n",
    "print(f'Existen {combinations_using_six_elements} maneras de combinar los 4 elementos del folder, haciendo uso solamende los seis instrumentos de renta variable .')"
   ]
  },
  {
   "cell_type": "markdown",
   "id": "693c21e1-4f1a-4be8-9413-f98d4f43ea31",
   "metadata": {},
   "source": [
    "**d)** Debe haber tres instrumentos de renta fija?  \n",
    "\n",
    "Para este caso, al tener que incluir tres instrumentos de renta fija, podemos calcular el número de combinaciones de los 5 instrumentos, y después calcular el número de combinaciones del elemento restante con los 6 instrumentos de renta variable, para así al final multiplicarlos y obtener el número total de combinaciones para este caso.  \n",
    "  \n",
    "En caso de la renta fija: \n",
    "$$\n",
    "\\begin{align}\n",
    "    _{5}C_{3} &= \\dfrac{5!}{3! (5 - 3)!}\\\\\n",
    "    _{5}C_{3} &= \\dfrac{5!}{3! * 2!}\\\\\n",
    "    _{5}C_{3} &= \\dfrac{120}{12} = 10\\\\\n",
    "    _{5}C_{3} &= 10\n",
    "\\end{align}\n",
    "$$  \n",
    "  \n",
    "En caso de la renta variable:  \n",
    "$$\n",
    "\\begin{align}\n",
    "    _{6}C_{1} &= \\dfrac{6!}{1! (6 - 1)!}\\\\\n",
    "    _{6}C_{1} &= \\dfrac{6!}{1! * 5!}\\\\\n",
    "    _{6}C_{1} &= \\dfrac{720}{120} = 6\\\\\n",
    "    _{6}C_{1} &= 6\n",
    "\\end{align}\n",
    "$$  \n",
    "  \n",
    "Entonces al hacer la multiplicación de los valores obtenidos tenemos que:  \n",
    "$$\n",
    "10 * 6 = 60\n",
    "$$\n",
    "\n",
    "Por lo que existen **60** combinaciones de cuatro elementos en caso de usar tres de los cinco instrumentos de renta fija y uno de los seis instrumentos de renta variable."
   ]
  },
  {
   "cell_type": "code",
   "execution_count": 18,
   "id": "fdc89d31-9612-435c-bfbf-4cbb212c08bb",
   "metadata": {},
   "outputs": [
    {
     "name": "stdout",
     "output_type": "stream",
     "text": [
      "Existen 60 maneras de combinar los 4 elementos del folder, haciendo uso de tres de los cinco instrumentos de renta fija, y uno de los seis instrumentos de renta variable.\n"
     ]
    }
   ],
   "source": [
    "# Implementacion de la solucion del inciso d) del ejercicio 14\n",
    "combinations_using_three_of_five = math.comb(5, 3) * math.comb(6, 1)\n",
    "print(f'Existen {combinations_using_three_of_five} maneras de combinar los 4 elementos del folder, haciendo uso de tres de los cinco instrumentos de renta fija, y uno de los seis instrumentos de renta variable.')"
   ]
  },
  {
   "cell_type": "markdown",
   "id": "96db06b8-0997-44e7-87d4-d6326325068c",
   "metadata": {},
   "source": [
    "**e)** Calcula las probabilidades para los incisos anteriores.  \n",
    "\n",
    "Haciendo uso nuevamente de la formula de la probabilidad:\n",
    "$$\n",
    "\\begin{align}\n",
    "    P(A) = \\dfrac{Casos Favorables}{CasosPosibles}\n",
    "\\end{align}\n",
    "$$\n",
    "Realizamos el cálculo de la probabilidad en caso de cada inciso.  \n",
    "  \n",
    "Probabilidad del inciso (b):\n",
    "$$\n",
    "\\begin{align}\n",
    "    P(b) &= \\dfrac{b}{a}\\\\\n",
    "    P(b) &= \\dfrac{150}{330}\\\\\n",
    "    P(b) &= 0.454545455\n",
    "\\end{align}\n",
    "$$\n",
    "Probabilidad del inciso (c):\n",
    "\n",
    "$$\n",
    "\\begin{align}\n",
    "    P(c) &= \\dfrac{c}{a}\\\\\n",
    "    P(c) &= \\dfrac{15}{330}\\\\\n",
    "    P(c) &= 0.045454545\n",
    "\\end{align}\n",
    "$$\n",
    "Probabilidad del inciso (d):\n",
    "\n",
    "$$\n",
    "\\begin{align}\n",
    "    P(d) &= \\dfrac{d}{a}\\\\\n",
    "    P(d) &= \\dfrac{60}{330}\\\\\n",
    "    P(d) &= 0.181818182\n",
    "\\end{align}\n",
    "$$"
   ]
  },
  {
   "cell_type": "code",
   "execution_count": 19,
   "id": "9a27ca86-7868-4222-88c7-38ce38c78bb4",
   "metadata": {},
   "outputs": [
    {
     "name": "stdout",
     "output_type": "stream",
     "text": [
      "La probabilidad de que tengamos dos instrumentos de renta fija y dos de renta variable es de0.45454545454545453\n",
      "La probabilidad de que no tengamos ningún instrumento de renta fija es de 0.045454545454545456\n",
      "La probabilidad de tenagmos tres instrumentos de renta fija es de 0.18181818181818182\n"
     ]
    }
   ],
   "source": [
    "# Implementacion de la solucion del inciso e) del ejercicio 14\n",
    "probability_of_b = combinations_two_of_each / combinations_of_four_elements\n",
    "\n",
    "probability_of_c = combinations_using_six_elements / combinations_of_four_elements\n",
    "\n",
    "probability_of_d = combinations_using_three_of_five / combinations_of_four_elements\n",
    "\n",
    "print(f'La probabilidad de que tengamos dos instrumentos de renta fija y dos de renta variable es de{probability_of_b}')\n",
    "print(f'La probabilidad de que no tengamos ningún instrumento de renta fija es de {probability_of_c}')\n",
    "print(f'La probabilidad de tenagmos tres instrumentos de renta fija es de {probability_of_d}')"
   ]
  },
  {
   "cell_type": "markdown",
   "id": "e20d6e98-7b75-4dab-9db8-b6b6b14fc532",
   "metadata": {},
   "source": [
    "# Ejercicio 15\n",
    "15. Futbol. Tres parejas (tres hombres y tres mujeres) compran boletos para ir a un partido de los Pumas. Cuando llegan al estadio de Ciudad Universitaria les surge la duda de cómo sentarse en la fila. ¿De cuántas maneras pueden hacerlo si:\n",
    "\n",
    "**a)** No hay restricciones?  \n",
    "\n",
    "En este caso, al no haber ninguna restricción, podemos hacer uso de la notación factorial.\n",
    "$$\n",
    "n! = n * (n - 1) * (n - 2) . . . 3 * 2 * 1\n",
    "$$\n",
    "Al tener un total de seis personas(tres hombres y tres mujeres) calculamos 6! para obtener el número total de casos posibles:\n",
    "$$\n",
    "6! = 6 * 5 * 4 * 3 * 2 * 1\n",
    "$$\n",
    "Dando un total de:\n",
    "$$\n",
    "720\n",
    "$$\n",
    "Por lo que \n",
    "$$\n",
    "6! = 720\n",
    "$$\n",
    "Entonces, al no haber restricciones, existen ***720*** formas diferentes en las que se pueden sentar."
   ]
  },
  {
   "cell_type": "code",
   "execution_count": 20,
   "id": "6ce15f09-770a-444c-8ef6-161f835c4444",
   "metadata": {},
   "outputs": [
    {
     "name": "stdout",
     "output_type": "stream",
     "text": [
      "Existen 720 formas diferentes en las que se pueden sentar.\n"
     ]
    }
   ],
   "source": [
    "# Implementacion de la solucion del inciso a) del ejercicio 15\n",
    "number_of_combinations = math.factorial(6)\n",
    "print(f'Existen {number_of_combinations} formas diferentes en las que se pueden sentar.')"
   ]
  },
  {
   "cell_type": "markdown",
   "id": "3bd8686a-c10d-4248-8b14-99604ce4123f",
   "metadata": {},
   "source": [
    "**b)** Los hombres deben sentarse juntos?  \n",
    "  \n",
    "Para el caso en el que los hombres se tengan que sentar juntos, podemos considerar a los tres hombres como un bloque, teniendo así un total de cuatro elementos(tres mujeres y un bloque de hombres), así que calculamos el factorial de cuatro, y como el orden de los hombres dentro del bloque igual se puede alterar, calculamos el factorial de tres. Al tener estos 2 resultados los multiplicamos y obtenemos el número de combinaciones posibles para este caso.  \n",
    "  \n",
    "Primero calculamos 4! y 3!  \n",
    "$$\n",
    "\\begin{align}\n",
    "    4! &= 4 * 3 * 2 * 1\\\\\n",
    "    4! &= 24\\\\\n",
    "    3! &= 3 * 2 * 1\\\\\n",
    "    3! &= 6\n",
    "\\end{align}\n",
    "$$\n",
    "\n",
    "Posteriormente, podemos calcular el producto de los resultados:  \n",
    "  \n",
    "$$\n",
    "24 * 6 = 144\n",
    "$$  \n",
    "\n",
    "Por lo que tenemos **144** combinaciones en caso de que los hombres tengan que estar juntos."
   ]
  },
  {
   "cell_type": "code",
   "execution_count": 21,
   "id": "fb5df133-022f-4b7a-b375-b169822286f5",
   "metadata": {},
   "outputs": [
    {
     "name": "stdout",
     "output_type": "stream",
     "text": [
      "Existen 144 formas diferentes en las que se pueden sentar en caso de que los hombres tengan que estar juntos.\n"
     ]
    }
   ],
   "source": [
    "# Implementacion de la solucion del inciso b) del ejercicio 15\n",
    "men_together = math.factorial(4) * math.factorial(3)\n",
    "print(f'Existen {men_together} formas diferentes en las que se pueden sentar en caso de que los hombres tengan que estar juntos.')"
   ]
  },
  {
   "cell_type": "markdown",
   "id": "63fea7a6-e85a-47ef-9651-f0ee950b78d3",
   "metadata": {},
   "source": [
    "**c)** Deben sentarse por parejas?  \n",
    "  \n",
    "Para este caso tenemos que dividir en tres parejas de un hombre y una mujer, para obtener el número de combinaciones posibles tenemos que multiplicar el factorial del número de parejas(tres) por el número de combinaciones de cada pareja, el cual podemos obtener de la siguiente manera:  \n",
    "\n",
    "  Considerando que cada pareja está conformada por dos personas y existen dos formas de combinarse dentro de cada pareja, podemos multiplicar el dos por sí mismo tres veces(número de parejas):\n",
    "$$\n",
    "\\begin{align}\n",
    "    2 * 2 * 2 = 8\n",
    "\\end{align}\n",
    "$$ \n",
    "Ahora podemos calcular el factorial del número de parejas(tres) y multiplicarlo por el número total de las combinaciones dentro de cada pareja(ocho):  \n",
    "$$\n",
    "\\begin{align}\n",
    "    3! &= 3 * 2 * 1\\\\\n",
    "    3! &= 6\\\\\n",
    "    8 * 6 &= 48\n",
    "\\end{align}\n",
    "$$   \n",
    "Por lo que hay **48** combinaciones diferentes en caso de tener que sentarse por parejas."
   ]
  },
  {
   "cell_type": "code",
   "execution_count": 22,
   "id": "e87c978c-50cc-42d8-a946-be0ac32627bf",
   "metadata": {},
   "outputs": [
    {
     "name": "stdout",
     "output_type": "stream",
     "text": [
      "Existen 48 formas diferentes en las que se pueden ordenar en caso de tener que sentarse por parejas.\n"
     ]
    }
   ],
   "source": [
    "# Implementacion de la solucion del inciso c) del ejercicio 15\n",
    "couples = (2 * 2 * 2) * math.factorial(3)\n",
    "print(f'Existen {couples} formas diferentes en las que se pueden ordenar en caso de tener que sentarse por parejas.')"
   ]
  }
 ],
 "metadata": {
  "kernelspec": {
   "display_name": "Python 3 (ipykernel)",
   "language": "python",
   "name": "python3"
  },
  "language_info": {
   "codemirror_mode": {
    "name": "ipython",
    "version": 3
   },
   "file_extension": ".py",
   "mimetype": "text/x-python",
   "name": "python",
   "nbconvert_exporter": "python",
   "pygments_lexer": "ipython3",
   "version": "3.12.4"
  }
 },
 "nbformat": 4,
 "nbformat_minor": 5
}
